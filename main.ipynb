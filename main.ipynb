{
 "cells": [
  {
   "cell_type": "code",
   "execution_count": 7,
   "id": "4f0e9f2d-6792-4c61-8487-d18c99ca96f5",
   "metadata": {
    "tags": []
   },
   "outputs": [
    {
     "name": "stdout",
     "output_type": "stream",
     "text": [
      "i am so 😊 to see my 🐶 and 🐱 😄\n"
     ]
    }
   ],
   "source": [
    "emoji_dict = {\n",
    "    \"happy\": \"😊\",\n",
    "    \"love\": \"❤️\",\n",
    "    \"fire\": \"🔥\",\n",
    "    \"sad\": \"😢\",\n",
    "    \"cat\": \"🐱\",\n",
    "    \"dog\": \"🐶\",\n",
    "    \"smile\": \"😄\",\n",
    "    \"angry\": \"😡\",\n",
    "    \"cool\": \"😎\",\n",
    "}\n",
    "\n",
    "import string\n",
    "\n",
    "def emoji_translate(text):\n",
    "    # Lowercase and remove punctuation\n",
    "    text = text.lower()\n",
    "    text = text.translate(str.maketrans('', '', string.punctuation))\n",
    "    \n",
    "    # Tokenize\n",
    "    words = text.split()\n",
    "    \n",
    "    # Replace words by emojis according to dictionary\n",
    "    translated_words = [emoji_dict.get(word, word) for word in words]\n",
    "    \n",
    "    # Join back to string\n",
    "    return ' '.join(translated_words)"
   ]
  },
  {
   "cell_type": "code",
   "execution_count": 10,
   "id": "8f202736-dcc4-4567-b566-cee7a2831879",
   "metadata": {
    "tags": []
   },
   "outputs": [
    {
     "name": "stderr",
     "output_type": "stream",
     "text": [
      "[nltk_data] Downloading package wordnet to /home/atg/nltk_data...\n",
      "[nltk_data]   Package wordnet is already up-to-date!\n",
      "[nltk_data] Downloading package omw-1.4 to /home/atg/nltk_data...\n"
     ]
    }
   ],
   "source": [
    "import string\n",
    "import nltk\n",
    "from nltk.stem import WordNetLemmatizer\n",
    "\n",
    "# Download wordnet data for lemmatizer\n",
    "nltk.download('wordnet')\n",
    "nltk.download('omw-1.4')\n",
    "\n",
    "emoji_dict = {\n",
    "    \"happy\": \"😊\",\n",
    "    \"love\": \"❤️\",\n",
    "    \"fire\": \"🔥\",\n",
    "    \"sad\": \"😢\",\n",
    "    \"cat\": \"🐱\",\n",
    "    \"dog\": \"🐶\",\n",
    "    \"smile\": \"😄\",\n",
    "    \"angry\": \"😡\",\n",
    "    \"cool\": \"😎\",\n",
    "}\n",
    "\n",
    "lemmatizer = WordNetLemmatizer()\n",
    "\n",
    "def emoji_translate(text):\n",
    "    # Lowercase and remove punctuation\n",
    "    text = text.lower()\n",
    "    text = text.translate(str.maketrans('', '', string.punctuation))\n",
    "    \n",
    "    # Tokenize\n",
    "    words = text.split()\n",
    "    \n",
    "    # Lemmatize tokens\n",
    "    lemmas = [lemmatizer.lemmatize(word) for word in words]\n",
    "    \n",
    "    # Replace words by emojis according to dictionary\n",
    "    translated_words = [emoji_dict.get(lemma, lemma) for lemma in lemmas]\n",
    "    \n",
    "    # Join back to string\n",
    "    return ' '.join(translated_words)\n"
   ]
  }
 ],
 "metadata": {
  "kernelspec": {
   "display_name": "Python 3 (ipykernel)",
   "language": "python",
   "name": "python3"
  },
  "language_info": {
   "codemirror_mode": {
    "name": "ipython",
    "version": 3
   },
   "file_extension": ".py",
   "mimetype": "text/x-python",
   "name": "python",
   "nbconvert_exporter": "python",
   "pygments_lexer": "ipython3",
   "version": "3.12.3"
  }
 },
 "nbformat": 4,
 "nbformat_minor": 5
}
